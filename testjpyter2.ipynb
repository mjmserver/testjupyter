{
 "cells": [
  {
   "cell_type": "code",
   "execution_count": 3,
   "metadata": {},
   "outputs": [
    {
     "name": "stdout",
     "output_type": "stream",
     "text": [
      "859 µs ± 13.1 µs per loop (mean ± std. dev. of 10 runs, 1000 loops each)\n"
     ]
    }
   ],
   "source": [
    "%timeit -n 1000 -r 10 [x*x for x in range(10000)]"
   ]
  },
  {
   "cell_type": "code",
   "execution_count": 5,
   "metadata": {},
   "outputs": [
    {
     "name": "stdout",
     "output_type": "stream",
     "text": [
      "Package            Version\r\n",
      "------------------ -------\r\n",
      "appnope            0.1.0\r\n",
      "attrs              19.3.0\r\n",
      "backcall           0.1.0\r\n",
      "bleach             3.1.5\r\n",
      "decorator          4.4.2\r\n",
      "defusedxml         0.6.0\r\n",
      "entrypoints        0.3\r\n",
      "flake8             3.7.9\r\n",
      "importlib-metadata 1.6.0\r\n",
      "ipykernel          5.2.1\r\n",
      "ipython            7.14.0\r\n",
      "ipython-genutils   0.2.0\r\n",
      "ipywidgets         7.5.1\r\n",
      "jedi               0.17.0\r\n",
      "Jinja2             2.11.2\r\n",
      "jsonschema         3.2.0\r\n",
      "jupyter            1.0.0\r\n",
      "jupyter-client     6.1.3\r\n",
      "jupyter-console    6.1.0\r\n",
      "jupyter-core       4.6.3\r\n",
      "MarkupSafe         1.1.1\r\n",
      "mccabe             0.6.1\r\n",
      "mistune            0.8.4\r\n",
      "nbconvert          5.6.1\r\n",
      "nbformat           5.0.6\r\n",
      "notebook           6.0.3\r\n",
      "numpy              1.18.4\r\n",
      "packaging          20.3\r\n",
      "pandocfilters      1.4.2\r\n",
      "parso              0.7.0\r\n",
      "pexpect            4.8.0\r\n",
      "pickleshare        0.7.5\r\n",
      "pip                20.1\r\n",
      "prometheus-client  0.7.1\r\n",
      "prompt-toolkit     3.0.5\r\n",
      "ptyprocess         0.6.0\r\n",
      "pycodestyle        2.5.0\r\n",
      "pyflakes           2.1.1\r\n",
      "Pygments           2.6.1\r\n",
      "pyparsing          2.4.7\r\n",
      "pyrsistent         0.16.0\r\n",
      "python-dateutil    2.8.1\r\n",
      "pyzmq              19.0.0\r\n",
      "qtconsole          4.7.3\r\n",
      "QtPy               1.9.0\r\n",
      "Send2Trash         1.5.0\r\n",
      "setuptools         40.8.0\r\n",
      "six                1.14.0\r\n",
      "terminado          0.8.3\r\n",
      "testpath           0.4.4\r\n",
      "tornado            6.0.4\r\n",
      "traitlets          4.3.3\r\n",
      "wcwidth            0.1.9\r\n",
      "webencodings       0.5.1\r\n",
      "wheel              0.34.2\r\n",
      "widgetsnbextension 3.5.1\r\n",
      "zipp               3.1.0\r\n"
     ]
    }
   ],
   "source": [
    "!pip list"
   ]
  },
  {
   "cell_type": "code",
   "execution_count": null,
   "metadata": {},
   "outputs": [],
   "source": []
  },
  {
   "cell_type": "code",
   "execution_count": null,
   "metadata": {},
   "outputs": [],
   "source": []
  }
 ],
 "metadata": {
  "kernelspec": {
   "display_name": "Python 3",
   "language": "python",
   "name": "python3"
  },
  "language_info": {
   "codemirror_mode": {
    "name": "ipython",
    "version": 3
   },
   "file_extension": ".py",
   "mimetype": "text/x-python",
   "name": "python",
   "nbconvert_exporter": "python",
   "pygments_lexer": "ipython3",
   "version": "3.7.4"
  }
 },
 "nbformat": 4,
 "nbformat_minor": 4
}
